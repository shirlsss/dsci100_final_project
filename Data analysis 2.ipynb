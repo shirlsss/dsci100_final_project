{
 "cells": [
  {
   "cell_type": "code",
   "execution_count": 3,
   "id": "807ec4a4-76e2-4875-bf8b-61e0db4504c5",
   "metadata": {},
   "outputs": [
    {
     "name": "stderr",
     "output_type": "stream",
     "text": [
      "── \u001b[1mAttaching packages\u001b[22m ─────────────────────────────────────── tidyverse 1.3.1 ──\n",
      "\n",
      "\u001b[32m✔\u001b[39m \u001b[34mggplot2\u001b[39m 3.3.6     \u001b[32m✔\u001b[39m \u001b[34mpurrr  \u001b[39m 0.3.4\n",
      "\u001b[32m✔\u001b[39m \u001b[34mtibble \u001b[39m 3.1.7     \u001b[32m✔\u001b[39m \u001b[34mdplyr  \u001b[39m 1.0.9\n",
      "\u001b[32m✔\u001b[39m \u001b[34mtidyr  \u001b[39m 1.2.0     \u001b[32m✔\u001b[39m \u001b[34mstringr\u001b[39m 1.4.0\n",
      "\u001b[32m✔\u001b[39m \u001b[34mreadr  \u001b[39m 2.1.2     \u001b[32m✔\u001b[39m \u001b[34mforcats\u001b[39m 0.5.1\n",
      "\n",
      "── \u001b[1mConflicts\u001b[22m ────────────────────────────────────────── tidyverse_conflicts() ──\n",
      "\u001b[31m✖\u001b[39m \u001b[34mdplyr\u001b[39m::\u001b[32mfilter()\u001b[39m masks \u001b[34mstats\u001b[39m::filter()\n",
      "\u001b[31m✖\u001b[39m \u001b[34mdplyr\u001b[39m::\u001b[32mlag()\u001b[39m    masks \u001b[34mstats\u001b[39m::lag()\n",
      "\n",
      "── \u001b[1mAttaching packages\u001b[22m ────────────────────────────────────── tidymodels 1.0.0 ──\n",
      "\n",
      "\u001b[32m✔\u001b[39m \u001b[34mbroom       \u001b[39m 1.0.0     \u001b[32m✔\u001b[39m \u001b[34mrsample     \u001b[39m 1.0.0\n",
      "\u001b[32m✔\u001b[39m \u001b[34mdials       \u001b[39m 1.0.0     \u001b[32m✔\u001b[39m \u001b[34mtune        \u001b[39m 1.0.0\n",
      "\u001b[32m✔\u001b[39m \u001b[34minfer       \u001b[39m 1.0.2     \u001b[32m✔\u001b[39m \u001b[34mworkflows   \u001b[39m 1.0.0\n",
      "\u001b[32m✔\u001b[39m \u001b[34mmodeldata   \u001b[39m 1.0.0     \u001b[32m✔\u001b[39m \u001b[34mworkflowsets\u001b[39m 1.0.0\n",
      "\u001b[32m✔\u001b[39m \u001b[34mparsnip     \u001b[39m 1.0.0     \u001b[32m✔\u001b[39m \u001b[34myardstick   \u001b[39m 1.0.0\n",
      "\u001b[32m✔\u001b[39m \u001b[34mrecipes     \u001b[39m 1.0.1     \n",
      "\n",
      "── \u001b[1mConflicts\u001b[22m ───────────────────────────────────────── tidymodels_conflicts() ──\n",
      "\u001b[31m✖\u001b[39m \u001b[34mscales\u001b[39m::\u001b[32mdiscard()\u001b[39m masks \u001b[34mpurrr\u001b[39m::discard()\n",
      "\u001b[31m✖\u001b[39m \u001b[34mdplyr\u001b[39m::\u001b[32mfilter()\u001b[39m   masks \u001b[34mstats\u001b[39m::filter()\n",
      "\u001b[31m✖\u001b[39m \u001b[34mrecipes\u001b[39m::\u001b[32mfixed()\u001b[39m  masks \u001b[34mstringr\u001b[39m::fixed()\n",
      "\u001b[31m✖\u001b[39m \u001b[34mdplyr\u001b[39m::\u001b[32mlag()\u001b[39m      masks \u001b[34mstats\u001b[39m::lag()\n",
      "\u001b[31m✖\u001b[39m \u001b[34myardstick\u001b[39m::\u001b[32mspec()\u001b[39m masks \u001b[34mreadr\u001b[39m::spec()\n",
      "\u001b[31m✖\u001b[39m \u001b[34mrecipes\u001b[39m::\u001b[32mstep()\u001b[39m   masks \u001b[34mstats\u001b[39m::step()\n",
      "\u001b[34m•\u001b[39m Use suppressPackageStartupMessages() to eliminate package startup messages\n",
      "\n",
      "\n",
      "Attaching package: ‘rvest’\n",
      "\n",
      "\n",
      "The following object is masked from ‘package:readr’:\n",
      "\n",
      "    guess_encoding\n",
      "\n",
      "\n",
      "\n",
      "Attaching package: ‘gridExtra’\n",
      "\n",
      "\n",
      "The following object is masked from ‘package:dplyr’:\n",
      "\n",
      "    combine\n",
      "\n",
      "\n"
     ]
    }
   ],
   "source": [
    "library(tidyverse)\n",
    "library(forcats)\n",
    "library(tidymodels)\n",
    "library(rvest)\n",
    "library(gridExtra)\n",
    "library(stringr)"
   ]
  },
  {
   "cell_type": "code",
   "execution_count": 4,
   "id": "d6f6e866-e5fe-4331-8467-eb283bc99165",
   "metadata": {},
   "outputs": [
    {
     "name": "stderr",
     "output_type": "stream",
     "text": [
      "\u001b[1m\u001b[22mNew names:\n",
      "\u001b[36m•\u001b[39m `1.0` -> `1.0...2`\n",
      "\u001b[36m•\u001b[39m `1.0` -> `1.0...3`\n",
      "\u001b[36m•\u001b[39m `1.0` -> `1.0...6`\n",
      "\u001b[36m•\u001b[39m `0.0` -> `0.0...9`\n",
      "\u001b[36m•\u001b[39m `0.0` -> `0.0...12`\n",
      "\u001b[1mRows: \u001b[22m\u001b[34m302\u001b[39m \u001b[1mColumns: \u001b[22m\u001b[34m14\u001b[39m\n",
      "\u001b[36m──\u001b[39m \u001b[1mColumn specification\u001b[22m \u001b[36m────────────────────────────────────────────────────────\u001b[39m\n",
      "\u001b[1mDelimiter:\u001b[22m \",\"\n",
      "\u001b[31mchr\u001b[39m  (2): 0.0...12, 6.0\n",
      "\u001b[32mdbl\u001b[39m (12): 63.0, 1.0...2, 1.0...3, 145.0, 233.0, 1.0...6, 2.0, 150.0, 0.0...9...\n",
      "\n",
      "\u001b[36mℹ\u001b[39m Use `spec()` to retrieve the full column specification for this data.\n",
      "\u001b[36mℹ\u001b[39m Specify the column types or set `show_col_types = FALSE` to quiet this message.\n"
     ]
    }
   ],
   "source": [
    "heart_disease_data <- read_csv(\"https://archive.ics.uci.edu/ml/machine-learning-databases/heart-disease/processed.cleveland.data\")\n",
    "\n",
    "name <- c(\"age\",\"sex\",\"cp\",\"trestbps\",\"chol\",\"fbs\",\"restecg\",\"thalach\",\"exang\",\n",
    "          \"oldpeak\",\"slope\",\"ca\",\"thal\",\"status\")\n",
    "\n",
    "colnames(heart_disease_data) <- name"
   ]
  },
  {
   "cell_type": "code",
   "execution_count": 5,
   "id": "c3a3a2aa-0045-4ddb-9a49-dca2bc08175a",
   "metadata": {},
   "outputs": [],
   "source": [
    "heart_disease_data_as_factors <- heart_disease_data|>\n",
    "  mutate(\n",
    "    sex=ifelse(sex== 1, \"Male\",\"Female\"),                                 #Classify male and female \n",
    "    cp=ifelse(cp == 1, \"typical\",                                         #Classify chest pain type\n",
    "              ifelse(cp == 2, \"atypical\", \n",
    "                     ifelse(cp== 3, \"non-anginal\", \n",
    "                            \"asymptomatic\"))),\n",
    "    fbs=ifelse(fbs == 0, \"Normal\",\"High\"),                                #Classify blood sugar level\n",
    "    restecg=ifelse(restecg==0,\"Normal\",                                   #Classify \n",
    "                   ifelse(restecg==1,\"Abnormal\",\"Definite\")),\n",
    "    exang=ifelse(exang==1,\"yes\",\"no\"),\n",
    "    slope=ifelse(slope == 1, \"upsloping\", \n",
    "                 ifelse(slope==2,\"flat\",\"downsloping\")),\n",
    "    ca=as_factor(ca),\n",
    "    thal=ifelse(thal==\"3.0\",\"normal\",\n",
    "                ifelse(thal==\"6.0\",\"fixed defect\",\"reversable defect\")),\n",
    "    status=ifelse(status==0,\"absent\",\"present\"))|>                         # predicted variable\n",
    "  mutate_if(is.character, as.factor)|>\n",
    "  filter(ca!=\"?\")"
   ]
  },
  {
   "cell_type": "code",
   "execution_count": 6,
   "id": "821ffebc-a88d-4c04-abcd-657ba74e97e2",
   "metadata": {},
   "outputs": [],
   "source": [
    "heart_scaled <- heart_disease_data_as_factors|>\n",
    "  mutate(age=scale(age),\n",
    "         trestbps=scale(trestbps),\n",
    "         chol=scale(chol),\n",
    "         thalach=scale(thalach),\n",
    "         oldpeak=scale(oldpeak))"
   ]
  },
  {
   "cell_type": "code",
   "execution_count": 7,
   "id": "b8f06d29-3aca-4f78-ab66-fa01be4a7068",
   "metadata": {},
   "outputs": [],
   "source": [
    "set.seed(1984)\n",
    "heart_split_scaled <- initial_split(heart_scaled, prop = 0.75, strata = status)\n",
    "heart_train_scaled <- training(heart_split_scaled)\n",
    "heart_test_scaled <- testing(heart_split_scaled)\n",
    "\n",
    "heart_vfold_scaled <- vfold_cv(heart_train_scaled, v = 5, strata = status)"
   ]
  },
  {
   "cell_type": "code",
   "execution_count": 8,
   "id": "40267386-831f-4184-a582-2797baa1a09f",
   "metadata": {},
   "outputs": [],
   "source": [
    "names <- colnames(heart_train_scaled |> select(-status))\n",
    "\n",
    "\n",
    "accuracies1 <- tibble(size = integer(), \n",
    "                     model_string = character(), \n",
    "                     accuracy = numeric())\n",
    "\n",
    "accuracies2 <- tibble(size = integer(), \n",
    "                     model_string = character(), \n",
    "                     accuracy = numeric())\n",
    "\n",
    "accuracies3 <- tibble(size = integer(), \n",
    "                     model_string = character(), \n",
    "                     accuracy = numeric())\n",
    "\n",
    "accuracies4 <- tibble(size = integer(), \n",
    "                     model_string = character(), \n",
    "                     accuracy = numeric())\n",
    "\n",
    "accuracies5 <- tibble(size = integer(), \n",
    "                     model_string = character(), \n",
    "                     accuracy = numeric())"
   ]
  },
  {
   "cell_type": "code",
   "execution_count": 9,
   "id": "67def9a2-0b03-436f-ac49-d1406c8b0471",
   "metadata": {},
   "outputs": [],
   "source": [
    "knn_spec_tune <- nearest_neighbor(weight_func = \"rectangular\", \n",
    "                             neighbors = tune()) |>\n",
    "  set_engine(\"kknn\") |>\n",
    "  set_mode(\"classification\")\n",
    "\n",
    "n_total <- length(names)\n",
    "\n",
    "selected <- c()\n",
    "\n",
    "set.seed(1984)\n",
    "#for k=5\n",
    "for (i in 1:n_total) {\n",
    "  accs <- list()\n",
    "  models <- list()\n",
    "  for (j in 1:length(names)) {\n",
    "    preds_new <- c(selected, names[[j]])\n",
    "    model_string <- paste(\"status\", \"~\", paste(preds_new, collapse=\"+\"))\n",
    "    heart_recipe_scaled <- recipe(as.formula(model_string), \n",
    "                            data = heart_train_scaled)\n",
    "    acc <- workflow() |>\n",
    "      add_recipe(heart_recipe_scaled) |>\n",
    "      add_model(knn_spec_tune) |>\n",
    "      tune_grid(resamples = heart_vfold_scaled, grid = 5) |>\n",
    "      collect_metrics() |>\n",
    "      filter(.metric == \"accuracy\") |>\n",
    "      summarize(mx = max(mean))\n",
    "    acc <- acc$mx |> unlist()\n",
    "    accs[[j]] <- acc\n",
    "    models[[j]] <- model_string\n",
    "  }\n",
    "\n",
    "  jstar <- which.max(unlist(accs))\n",
    "  accuracies1 <- accuracies1 |> \n",
    "    add_row(size = i, \n",
    "            model_string = models[[jstar]], \n",
    "            accuracy = accs[[jstar]])\n",
    "  selected <- c(selected, names[[jstar]])\n",
    "  names <- names[-jstar]\n",
    "}"
   ]
  },
  {
   "cell_type": "code",
   "execution_count": 17,
   "id": "46a56515-95f1-4d34-99c7-cb38959e02bd",
   "metadata": {},
   "outputs": [
    {
     "data": {
      "text/html": [
       "<table class=\"dataframe\">\n",
       "<caption>A tibble: 13 × 4</caption>\n",
       "<thead>\n",
       "\t<tr><th scope=col>size</th><th scope=col>model_string</th><th scope=col>accuracy</th><th scope=col>diff</th></tr>\n",
       "\t<tr><th scope=col>&lt;int&gt;</th><th scope=col>&lt;chr&gt;</th><th scope=col>&lt;dbl&gt;</th><th scope=col>&lt;dbl&gt;</th></tr>\n",
       "</thead>\n",
       "<tbody>\n",
       "\t<tr><td> 1</td><td>status ~ oldpeak                                                                 </td><td>0.7220202</td><td>        NA</td></tr>\n",
       "\t<tr><td> 2</td><td>status ~ oldpeak+thal                                                            </td><td>0.7851515</td><td> 6.3131313</td></tr>\n",
       "\t<tr><td> 3</td><td>status ~ oldpeak+thal+ca                                                         </td><td>0.8073737</td><td> 2.2222222</td></tr>\n",
       "\t<tr><td> 4</td><td>status ~ oldpeak+thal+ca+cp                                                      </td><td>0.8431313</td><td> 3.5757576</td></tr>\n",
       "\t<tr><td> 5</td><td>status ~ oldpeak+thal+ca+cp+slope                                                </td><td>0.8478788</td><td> 0.4747475</td></tr>\n",
       "\t<tr><td> 6</td><td>status ~ oldpeak+thal+ca+cp+slope+restecg                                        </td><td>0.8565657</td><td> 0.8686869</td></tr>\n",
       "\t<tr><td> 7</td><td>status ~ oldpeak+thal+ca+cp+slope+restecg+trestbps                               </td><td>0.8700000</td><td> 1.3434343</td></tr>\n",
       "\t<tr><td> 8</td><td>status ~ oldpeak+thal+ca+cp+slope+restecg+trestbps+chol                          </td><td>0.8609091</td><td>-0.9090909</td></tr>\n",
       "\t<tr><td> 9</td><td>status ~ oldpeak+thal+ca+cp+slope+restecg+trestbps+chol+age                      </td><td>0.8566667</td><td>-0.4242424</td></tr>\n",
       "\t<tr><td>10</td><td>status ~ oldpeak+thal+ca+cp+slope+restecg+trestbps+chol+age+sex                  </td><td>0.8521212</td><td>-0.4545455</td></tr>\n",
       "\t<tr><td>11</td><td>status ~ oldpeak+thal+ca+cp+slope+restecg+trestbps+chol+age+sex+fbs              </td><td>0.8476768</td><td>-0.4444444</td></tr>\n",
       "\t<tr><td>12</td><td>status ~ oldpeak+thal+ca+cp+slope+restecg+trestbps+chol+age+sex+fbs+exang        </td><td>0.8431313</td><td>-0.4545455</td></tr>\n",
       "\t<tr><td>13</td><td>status ~ oldpeak+thal+ca+cp+slope+restecg+trestbps+chol+age+sex+fbs+exang+thalach</td><td>0.8116162</td><td>-3.1515152</td></tr>\n",
       "</tbody>\n",
       "</table>\n"
      ],
      "text/latex": [
       "A tibble: 13 × 4\n",
       "\\begin{tabular}{llll}\n",
       " size & model\\_string & accuracy & diff\\\\\n",
       " <int> & <chr> & <dbl> & <dbl>\\\\\n",
       "\\hline\n",
       "\t  1 & status \\textasciitilde{} oldpeak                                                                  & 0.7220202 &         NA\\\\\n",
       "\t  2 & status \\textasciitilde{} oldpeak+thal                                                             & 0.7851515 &  6.3131313\\\\\n",
       "\t  3 & status \\textasciitilde{} oldpeak+thal+ca                                                          & 0.8073737 &  2.2222222\\\\\n",
       "\t  4 & status \\textasciitilde{} oldpeak+thal+ca+cp                                                       & 0.8431313 &  3.5757576\\\\\n",
       "\t  5 & status \\textasciitilde{} oldpeak+thal+ca+cp+slope                                                 & 0.8478788 &  0.4747475\\\\\n",
       "\t  6 & status \\textasciitilde{} oldpeak+thal+ca+cp+slope+restecg                                         & 0.8565657 &  0.8686869\\\\\n",
       "\t  7 & status \\textasciitilde{} oldpeak+thal+ca+cp+slope+restecg+trestbps                                & 0.8700000 &  1.3434343\\\\\n",
       "\t  8 & status \\textasciitilde{} oldpeak+thal+ca+cp+slope+restecg+trestbps+chol                           & 0.8609091 & -0.9090909\\\\\n",
       "\t  9 & status \\textasciitilde{} oldpeak+thal+ca+cp+slope+restecg+trestbps+chol+age                       & 0.8566667 & -0.4242424\\\\\n",
       "\t 10 & status \\textasciitilde{} oldpeak+thal+ca+cp+slope+restecg+trestbps+chol+age+sex                   & 0.8521212 & -0.4545455\\\\\n",
       "\t 11 & status \\textasciitilde{} oldpeak+thal+ca+cp+slope+restecg+trestbps+chol+age+sex+fbs               & 0.8476768 & -0.4444444\\\\\n",
       "\t 12 & status \\textasciitilde{} oldpeak+thal+ca+cp+slope+restecg+trestbps+chol+age+sex+fbs+exang         & 0.8431313 & -0.4545455\\\\\n",
       "\t 13 & status \\textasciitilde{} oldpeak+thal+ca+cp+slope+restecg+trestbps+chol+age+sex+fbs+exang+thalach & 0.8116162 & -3.1515152\\\\\n",
       "\\end{tabular}\n"
      ],
      "text/markdown": [
       "\n",
       "A tibble: 13 × 4\n",
       "\n",
       "| size &lt;int&gt; | model_string &lt;chr&gt; | accuracy &lt;dbl&gt; | diff &lt;dbl&gt; |\n",
       "|---|---|---|---|\n",
       "|  1 | status ~ oldpeak                                                                  | 0.7220202 |         NA |\n",
       "|  2 | status ~ oldpeak+thal                                                             | 0.7851515 |  6.3131313 |\n",
       "|  3 | status ~ oldpeak+thal+ca                                                          | 0.8073737 |  2.2222222 |\n",
       "|  4 | status ~ oldpeak+thal+ca+cp                                                       | 0.8431313 |  3.5757576 |\n",
       "|  5 | status ~ oldpeak+thal+ca+cp+slope                                                 | 0.8478788 |  0.4747475 |\n",
       "|  6 | status ~ oldpeak+thal+ca+cp+slope+restecg                                         | 0.8565657 |  0.8686869 |\n",
       "|  7 | status ~ oldpeak+thal+ca+cp+slope+restecg+trestbps                                | 0.8700000 |  1.3434343 |\n",
       "|  8 | status ~ oldpeak+thal+ca+cp+slope+restecg+trestbps+chol                           | 0.8609091 | -0.9090909 |\n",
       "|  9 | status ~ oldpeak+thal+ca+cp+slope+restecg+trestbps+chol+age                       | 0.8566667 | -0.4242424 |\n",
       "| 10 | status ~ oldpeak+thal+ca+cp+slope+restecg+trestbps+chol+age+sex                   | 0.8521212 | -0.4545455 |\n",
       "| 11 | status ~ oldpeak+thal+ca+cp+slope+restecg+trestbps+chol+age+sex+fbs               | 0.8476768 | -0.4444444 |\n",
       "| 12 | status ~ oldpeak+thal+ca+cp+slope+restecg+trestbps+chol+age+sex+fbs+exang         | 0.8431313 | -0.4545455 |\n",
       "| 13 | status ~ oldpeak+thal+ca+cp+slope+restecg+trestbps+chol+age+sex+fbs+exang+thalach | 0.8116162 | -3.1515152 |\n",
       "\n"
      ],
      "text/plain": [
       "   size\n",
       "1   1  \n",
       "2   2  \n",
       "3   3  \n",
       "4   4  \n",
       "5   5  \n",
       "6   6  \n",
       "7   7  \n",
       "8   8  \n",
       "9   9  \n",
       "10 10  \n",
       "11 11  \n",
       "12 12  \n",
       "13 13  \n",
       "   model_string                                                                     \n",
       "1  status ~ oldpeak                                                                 \n",
       "2  status ~ oldpeak+thal                                                            \n",
       "3  status ~ oldpeak+thal+ca                                                         \n",
       "4  status ~ oldpeak+thal+ca+cp                                                      \n",
       "5  status ~ oldpeak+thal+ca+cp+slope                                                \n",
       "6  status ~ oldpeak+thal+ca+cp+slope+restecg                                        \n",
       "7  status ~ oldpeak+thal+ca+cp+slope+restecg+trestbps                               \n",
       "8  status ~ oldpeak+thal+ca+cp+slope+restecg+trestbps+chol                          \n",
       "9  status ~ oldpeak+thal+ca+cp+slope+restecg+trestbps+chol+age                      \n",
       "10 status ~ oldpeak+thal+ca+cp+slope+restecg+trestbps+chol+age+sex                  \n",
       "11 status ~ oldpeak+thal+ca+cp+slope+restecg+trestbps+chol+age+sex+fbs              \n",
       "12 status ~ oldpeak+thal+ca+cp+slope+restecg+trestbps+chol+age+sex+fbs+exang        \n",
       "13 status ~ oldpeak+thal+ca+cp+slope+restecg+trestbps+chol+age+sex+fbs+exang+thalach\n",
       "   accuracy  diff      \n",
       "1  0.7220202         NA\n",
       "2  0.7851515  6.3131313\n",
       "3  0.8073737  2.2222222\n",
       "4  0.8431313  3.5757576\n",
       "5  0.8478788  0.4747475\n",
       "6  0.8565657  0.8686869\n",
       "7  0.8700000  1.3434343\n",
       "8  0.8609091 -0.9090909\n",
       "9  0.8566667 -0.4242424\n",
       "10 0.8521212 -0.4545455\n",
       "11 0.8476768 -0.4444444\n",
       "12 0.8431313 -0.4545455\n",
       "13 0.8116162 -3.1515152"
      ]
     },
     "metadata": {},
     "output_type": "display_data"
    }
   ],
   "source": [
    "accuracies_diff <- accuracies1|>\n",
    "  mutate(diff=(accuracy-lag(accuracy))*100)\n",
    "\n",
    "accuracies_diff\n",
    "\n",
    "model=as.formula(\"status ~ oldpeak+thal+ca+cp+slope+restecg+trestbps\")"
   ]
  },
  {
   "cell_type": "code",
   "execution_count": 18,
   "id": "2c7b1065-74d3-4985-89ec-37ca693c2273",
   "metadata": {},
   "outputs": [
    {
     "data": {
      "image/png": "[encoded data removed]",
      "text/plain": [
       "plot without title"
      ]
     },
     "metadata": {
      "image/png": {
       "height": 420,
       "width": 420
      }
     },
     "output_type": "display_data"
    }
   ],
   "source": [
    "model_selection_plot <- accuracies1|>\n",
    "  ggplot(aes(x=size,y=accuracy))+\n",
    "  geom_line()+\n",
    "  scale_x_continuous(breaks=c(1,2,3,4,5,6,7,8,9,10,11,12,13,14))+\n",
    "  scale_y_continuous(breaks=c(0.75,0.775,0.8,0.825,0.85,0.875))+\n",
    "  labs(x=\"Amount of predictors selected\",y=\"Accuracy of model (in %)\",\n",
    "       title=\"Model selection vs accuracy\")+\n",
    "  theme(plot.title=element_text(size=12,face=\"bold\",hjust=0.5))\n",
    "\n",
    "model_selection_plot"
   ]
  },
  {
   "cell_type": "code",
   "execution_count": 19,
   "id": "1f04733c-f3ac-4736-920e-0bead0fb5a5c",
   "metadata": {},
   "outputs": [],
   "source": [
    "set.seed(1198)\n",
    "heart_split <- initial_split(heart_disease_data_as_factors, prop = 0.75, strata = status)\n",
    "heart_train <- training(heart_split)\n",
    "heart_test <- testing(heart_split)"
   ]
  },
  {
   "cell_type": "code",
   "execution_count": 20,
   "id": "c5235ede-a2a9-48f7-9453-e67d0cd18b15",
   "metadata": {},
   "outputs": [],
   "source": [
    "knn_spec_tune <- nearest_neighbor(weight_func = \"rectangular\",neighbors = tune())|>\n",
    "  set_engine(\"kknn\")|>\n",
    "  set_mode(\"classification\")\n",
    "\n",
    "heart_recipe <- recipe(model,data=heart_train)|>\n",
    "  step_center(oldpeak,trestbps)|>\n",
    "  step_scale(oldpeak,trestbps)"
   ]
  },
  {
   "cell_type": "code",
   "execution_count": 31,
   "id": "fc364afb-9c8a-4b8e-a705-ef061d888026",
   "metadata": {},
   "outputs": [
    {
     "data": {
      "text/plain": [
       "          Truth\n",
       "Prediction absent present\n",
       "   absent      37       6\n",
       "   present      3      29"
      ]
     },
     "metadata": {},
     "output_type": "display_data"
    },
    {
     "data": {
      "text/html": [
       "5"
      ],
      "text/latex": [
       "5"
      ],
      "text/markdown": [
       "5"
      ],
      "text/plain": [
       "[1] 5"
      ]
     },
     "metadata": {},
     "output_type": "display_data"
    }
   ],
   "source": [
    "set.seed(1999)\n",
    "heart_vfold <- vfold_cv(heart_train, v = 5, strata = status)\n",
    "\n",
    "gridvals = tibble(neighbors = seq(from=1,to=50, by=2))\n",
    "\n",
    "knn_tune_result <- workflow()|>\n",
    "  add_recipe(heart_recipe)|>\n",
    "  add_model(knn_spec_tune)|>\n",
    "  tune_grid(resamples = heart_vfold, grid = gridvals)|>\n",
    "  collect_metrics()|>\n",
    "  filter(.metric==\"accuracy\")|>\n",
    "  arrange(desc(mean))\n",
    "\n",
    "best_k <- knn_tune_result|>\n",
    "  slice(1)|>\n",
    "  pull(neighbors)\n",
    "\n",
    "knn_spec <- nearest_neighbor(weight_func = \"rectangular\",neighbors = best_k)|>\n",
    "  set_engine(\"kknn\")|>\n",
    "  set_mode(\"classification\")\n",
    "\n",
    "heart_fit <- workflow()|>\n",
    "  add_recipe(heart_recipe)|>\n",
    "  add_model(knn_spec)|>\n",
    "  fit(data=heart_train)\n",
    "\n",
    "result <- heart_fit|>\n",
    "  predict(heart_test)|>\n",
    "  bind_cols(heart_test)\n",
    "\n",
    "result_metrics <- result|>\n",
    "  metrics(truth=status,estimate = .pred_class)|>\n",
    "  filter(.metric==\"accuracy\")\n",
    "\n",
    "result_confusion <- result|>\n",
    "  conf_mat(truth=status,estimate = .pred_class)\n",
    "\n",
    "result_confusion\n",
    "\n",
    "best_k"
   ]
  },
  {
   "cell_type": "code",
   "execution_count": null,
   "id": "cf391d77-f20b-4223-a6a8-facaf15934f5",
   "metadata": {},
   "outputs": [],
   "source": []
  }
 ],
 "metadata": {
  "kernelspec": {
   "display_name": "R",
   "language": "R",
   "name": "ir"
  },
  "language_info": {
   "codemirror_mode": "r",
   "file_extension": ".r",
   "mimetype": "text/x-r-source",
   "name": "R",
   "pygments_lexer": "r",
   "version": "4.1.3"
  }
 },
 "nbformat": 4,
 "nbformat_minor": 5
}
