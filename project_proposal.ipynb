{
 "cells": [
  {
   "cell_type": "markdown",
   "id": "c659ee08-9835-4991-9d53-cbca145613a6",
   "metadata": {},
   "source": [
    "\n",
    "\n",
    "## Introduction\n",
    "\n",
    "Heart disease is the leading cause of death for men, women, and people of most racial and ethnic groups in the world. About 697,000 people in the United States died from heart disease in 2020—that’s 1 in every 5 deaths. Heart disease cost the United States about $229 billion each year from 2017 to 2018. This includes the cost of healthcare services, medicines, and lost productivity due to death. In terms of the high mortality rate and huge cost of heart disease, we decided to make the theme of the project heart disease. In this project, our goal is to create a model to classify whether the patient has the risk of heart disease, and to show the public what factors are more likely to cause heart disease. The database we use comes from UCI Machine learning and intelligent systems. This database contains 76 attributes, but all published experiments refer to using a subset of 14 of them. The goal of this dataset is also referred to the presence of heart disease in the patient. \n",
    "\n",
    "\n",
    "**Data from: https://archive.ics.uci.edu/ml/datasets/Heart+Disease** \n",
    "\n",
    "##### Preliminary exploratory data analysis\n",
    "\n",
    "selected_variables <- c(\"sex\",\"cp\",\"trestbps\",\"thalach\",\"ca\")\n",
    " \n",
    "#### Variables\n",
    "* sex = sex\n",
    "* cp = chest pain type\n",
    "     - Typical angina\n",
    "     - Atypical angina\n",
    "     - Non-anginal pain\n",
    "     - Asymptomatic\n",
    "* trestbps = resting blood pressure\n",
    "* thalach = maximum heart rate achieved\n",
    "* ca = number of major vessels coloured by fluoroscopy\n",
    "\n",
    "## Methods:\n",
    "\n",
    "Having cleaned and compared the graphs of different variables with indication of presence or absence of heart diseases, we have decided to focus on a few variables which display noticeable patterns between heart disease positive and heart disease negative data points. These variables include sex, chest pain type, resting blood pressure, maximum heart rate achieved, and number of major vessels coloured by fluoroscopy of the patient. We are going to build a classification model which references selected data found in the data set, and use this classification model to answer our predictive question – **can our model classify whether the patient has the risk of heart disease, based on our selected variables?** After the question is answered by the classification model, we will be plotting the new data in each of the graphs with our selected variables to see if the answer made sense.\n",
    " \n",
    "#### What do you expect to find?\n",
    "We expect to find accurate classification when given unclassified objects, all related to the variables mentioned in the introduction.\n",
    "\n",
    "#### What impact could such findings have?\n",
    "It is important to be able to detect heart disease efficiently and quickly because of the lasting effects it has on health. Accurate detection and classification could jumpstart treatment of heart disease, as well as lifestyle, medication, and diet adjustment to prevent further progression of heart/cardiovascular disease.\n",
    "\n",
    "#### What future questions could this lead to?\n",
    "Are these variables enough to accurately classify heart disease in individuals? Is there any way to improve this classification, ie. with fewer variables (while maintaining accuracy), to contribute to a lesser workload and/or less testing in individuals?\n"
   ]
  }
 ],
 "metadata": {
  "kernelspec": {
   "display_name": "R",
   "language": "R",
   "name": "ir"
  },
  "language_info": {
   "codemirror_mode": "r",
   "file_extension": ".r",
   "mimetype": "text/x-r-source",
   "name": "R",
   "pygments_lexer": "r",
   "version": "4.1.3"
  }
 },
 "nbformat": 4,
 "nbformat_minor": 5
}
