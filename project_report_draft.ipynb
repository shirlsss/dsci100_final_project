{
 "cells": [
  {
   "cell_type": "markdown",
   "id": "446aca26-d6a2-4485-8031-a53c23f0a2a7",
   "metadata": {},
   "source": [
    "Notes:\n",
    "\n",
    "#### Relevant Sources:\n",
    "Prevalence and Determinant Factors of Coronary Heart Disease Status in Patients with Heart Failure\n",
    "- https://doi.org/10.20527/jbk.v17i1.10249\n",
    "\n",
    "Identification of significant features and data mining techniques in predicting heart disease\n",
    "- https://doi.org/10.1016/j.tele.2018.11.007\n"
   ]
  },
  {
   "cell_type": "code",
   "execution_count": null,
   "id": "e9198be0-7f2d-415b-9a4b-13255cbb60cf",
   "metadata": {},
   "outputs": [],
   "source": []
  }
 ],
 "metadata": {
  "kernelspec": {
   "display_name": "R",
   "language": "R",
   "name": "ir"
  },
  "language_info": {
   "codemirror_mode": "r",
   "file_extension": ".r",
   "mimetype": "text/x-r-source",
   "name": "R",
   "pygments_lexer": "r",
   "version": "4.1.3"
  }
 },
 "nbformat": 4,
 "nbformat_minor": 5
}
