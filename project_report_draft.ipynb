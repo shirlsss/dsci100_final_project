{
 "cells": [
  {
   "cell_type": "markdown",
   "id": "8b274152-1d70-4b90-b70f-75771b6bf4ea",
   "metadata": {},
   "source": [
    "Notes:\n",
    "\n",
    "#### Relevant Sources:\n",
    "Prevalence and Determinant Factors of Coronary Heart Disease Status in Patients with Heart Failure\n",
    "- https://doi.org/10.20527/jbk.v17i1.10249\n",
    "\n",
    "Identification of significant features and data mining techniques in predicting heart disease\n",
    "- https://doi.org/10.1016/j.tele.2018.11.007\n",
    "\n",
    "Coronary heart disease: seven dietary factors\n",
    "- https://doi.org/10.1016/0140-6736(91)91846-M"
   ]
  },
  {
   "cell_type": "code",
   "execution_count": null,
   "id": "e9198be0-7f2d-415b-9a4b-13255cbb60cf",
   "metadata": {},
   "outputs": [],
   "source": []
  }
 ],
 "metadata": {
  "kernelspec": {
   "display_name": "R",
   "language": "R",
   "name": "ir"
  },
  "language_info": {
   "codemirror_mode": "r",
   "file_extension": ".r",
   "mimetype": "text/x-r-source",
   "name": "R",
   "pygments_lexer": "r",
   "version": "4.1.3"
  }
 },
 "nbformat": 4,
 "nbformat_minor": 5
}
